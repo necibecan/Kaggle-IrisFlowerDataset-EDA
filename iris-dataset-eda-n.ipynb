{
 "cells": [
  {
   "cell_type": "markdown",
   "id": "uniform-kitty",
   "metadata": {
    "papermill": {
     "duration": 0.050627,
     "end_time": "2021-04-05T13:13:27.510984",
     "exception": false,
     "start_time": "2021-04-05T13:13:27.460357",
     "status": "completed"
    },
    "tags": []
   },
   "source": [
    "## IRIS INFORMATION"
   ]
  },
  {
   "cell_type": "markdown",
   "id": "established-politics",
   "metadata": {
    "papermill": {
     "duration": 0.047145,
     "end_time": "2021-04-05T13:13:27.606357",
     "exception": false,
     "start_time": "2021-04-05T13:13:27.559212",
     "status": "completed"
    },
    "tags": []
   },
   "source": [
    "   İris, gösterişli çiçekleri olan 260–300 tür çiçekli bitki cinsidir. Adını, Yunan gökkuşağının tanrıçası Iris'in de adı olan gökkuşağı anlamına gelen Yunanca kelimesinden alıyor. \n",
    "   Veri Bilimi amacımız için aşağıdaki 3 farklı Iris türü için EDA yapacağız:\n",
    "* Setosa\n",
    "* Versicolor\n",
    "* Virginica\n",
    "\n",
    "\n",
    "   Çiçeklerin özellikleri:\n",
    "\n",
    "* sepal lenght \n",
    "* sepal width \n",
    "* petal length \n",
    "* petal width \n"
   ]
  },
  {
   "cell_type": "markdown",
   "id": "designed-external",
   "metadata": {
    "papermill": {
     "duration": 0.047233,
     "end_time": "2021-04-05T13:13:27.704406",
     "exception": false,
     "start_time": "2021-04-05T13:13:27.657173",
     "status": "completed"
    },
    "tags": []
   },
   "source": [
    "![](http://miro.medium.com/max/3500/1*f6KbPXwksAliMIsibFyGJw.png)\n",
    "![](https://content.codecademy.com/programs/machine-learning/k-means/iris.svg)"
   ]
  },
  {
   "cell_type": "markdown",
   "id": "qualified-packet",
   "metadata": {
    "papermill": {
     "duration": 0.047003,
     "end_time": "2021-04-05T13:13:27.799185",
     "exception": false,
     "start_time": "2021-04-05T13:13:27.752182",
     "status": "completed"
    },
    "tags": []
   },
   "source": [
    "**Aşağıda ihtiyacımız doğrultusunda kullanacağımız kütüphaneleri yükleyelim.**"
   ]
  },
  {
   "cell_type": "code",
   "execution_count": 1,
   "id": "dominant-disclaimer",
   "metadata": {
    "execution": {
     "iopub.execute_input": "2021-04-05T13:13:27.899736Z",
     "iopub.status.busy": "2021-04-05T13:13:27.898364Z",
     "iopub.status.idle": "2021-04-05T13:13:28.935711Z",
     "shell.execute_reply": "2021-04-05T13:13:28.936487Z"
    },
    "papermill": {
     "duration": 1.090108,
     "end_time": "2021-04-05T13:13:28.936785",
     "exception": false,
     "start_time": "2021-04-05T13:13:27.846677",
     "status": "completed"
    },
    "tags": []
   },
   "outputs": [],
   "source": [
    "import numpy as np\n",
    "import seaborn as sns\n",
    "import pandas as pd"
   ]
  },
  {
   "cell_type": "markdown",
   "id": "sought-honey",
   "metadata": {
    "papermill": {
     "duration": 0.049152,
     "end_time": "2021-04-05T13:13:29.034926",
     "exception": false,
     "start_time": "2021-04-05T13:13:28.985774",
     "status": "completed"
    },
    "tags": []
   },
   "source": [
    "**Veri çerçevemizi bulunduğumuz dizinden yükleyelim ve bir veri çerçevesi haline getirerek df değişkenine atayalım. (pd.read_csv(...csv))**"
   ]
  },
  {
   "cell_type": "code",
   "execution_count": 2,
   "id": "broken-george",
   "metadata": {
    "execution": {
     "iopub.execute_input": "2021-04-05T13:13:29.172049Z",
     "iopub.status.busy": "2021-04-05T13:13:29.171031Z",
     "iopub.status.idle": "2021-04-05T13:13:29.189030Z",
     "shell.execute_reply": "2021-04-05T13:13:29.189964Z"
    },
    "papermill": {
     "duration": 0.097506,
     "end_time": "2021-04-05T13:13:29.190226",
     "exception": false,
     "start_time": "2021-04-05T13:13:29.092720",
     "status": "completed"
    },
    "tags": []
   },
   "outputs": [],
   "source": [
    "df = pd.read_csv(\"../input/iris-flower-dataset/IRIS.csv\")"
   ]
  },
  {
   "cell_type": "markdown",
   "id": "effective-blind",
   "metadata": {
    "papermill": {
     "duration": 0.050079,
     "end_time": "2021-04-05T13:13:29.299623",
     "exception": false,
     "start_time": "2021-04-05T13:13:29.249544",
     "status": "completed"
    },
    "tags": []
   },
   "source": [
    "**+Veri çerçevesini yazdıralım.**"
   ]
  },
  {
   "cell_type": "code",
   "execution_count": 3,
   "id": "indian-uniform",
   "metadata": {
    "execution": {
     "iopub.execute_input": "2021-04-05T13:13:29.404747Z",
     "iopub.status.busy": "2021-04-05T13:13:29.404044Z",
     "iopub.status.idle": "2021-04-05T13:13:29.442390Z",
     "shell.execute_reply": "2021-04-05T13:13:29.442931Z"
    },
    "papermill": {
     "duration": 0.092553,
     "end_time": "2021-04-05T13:13:29.443130",
     "exception": false,
     "start_time": "2021-04-05T13:13:29.350577",
     "status": "completed"
    },
    "tags": []
   },
   "outputs": [
    {
     "data": {
      "text/html": [
       "<div>\n",
       "<style scoped>\n",
       "    .dataframe tbody tr th:only-of-type {\n",
       "        vertical-align: middle;\n",
       "    }\n",
       "\n",
       "    .dataframe tbody tr th {\n",
       "        vertical-align: top;\n",
       "    }\n",
       "\n",
       "    .dataframe thead th {\n",
       "        text-align: right;\n",
       "    }\n",
       "</style>\n",
       "<table border=\"1\" class=\"dataframe\">\n",
       "  <thead>\n",
       "    <tr style=\"text-align: right;\">\n",
       "      <th></th>\n",
       "      <th>sepal_length</th>\n",
       "      <th>sepal_width</th>\n",
       "      <th>petal_length</th>\n",
       "      <th>petal_width</th>\n",
       "      <th>species</th>\n",
       "    </tr>\n",
       "  </thead>\n",
       "  <tbody>\n",
       "    <tr>\n",
       "      <th>0</th>\n",
       "      <td>5.1</td>\n",
       "      <td>3.5</td>\n",
       "      <td>1.4</td>\n",
       "      <td>0.2</td>\n",
       "      <td>Iris-setosa</td>\n",
       "    </tr>\n",
       "    <tr>\n",
       "      <th>1</th>\n",
       "      <td>4.9</td>\n",
       "      <td>3.0</td>\n",
       "      <td>1.4</td>\n",
       "      <td>0.2</td>\n",
       "      <td>Iris-setosa</td>\n",
       "    </tr>\n",
       "    <tr>\n",
       "      <th>2</th>\n",
       "      <td>4.7</td>\n",
       "      <td>3.2</td>\n",
       "      <td>1.3</td>\n",
       "      <td>0.2</td>\n",
       "      <td>Iris-setosa</td>\n",
       "    </tr>\n",
       "    <tr>\n",
       "      <th>3</th>\n",
       "      <td>4.6</td>\n",
       "      <td>3.1</td>\n",
       "      <td>1.5</td>\n",
       "      <td>0.2</td>\n",
       "      <td>Iris-setosa</td>\n",
       "    </tr>\n",
       "    <tr>\n",
       "      <th>4</th>\n",
       "      <td>5.0</td>\n",
       "      <td>3.6</td>\n",
       "      <td>1.4</td>\n",
       "      <td>0.2</td>\n",
       "      <td>Iris-setosa</td>\n",
       "    </tr>\n",
       "    <tr>\n",
       "      <th>...</th>\n",
       "      <td>...</td>\n",
       "      <td>...</td>\n",
       "      <td>...</td>\n",
       "      <td>...</td>\n",
       "      <td>...</td>\n",
       "    </tr>\n",
       "    <tr>\n",
       "      <th>145</th>\n",
       "      <td>6.7</td>\n",
       "      <td>3.0</td>\n",
       "      <td>5.2</td>\n",
       "      <td>2.3</td>\n",
       "      <td>Iris-virginica</td>\n",
       "    </tr>\n",
       "    <tr>\n",
       "      <th>146</th>\n",
       "      <td>6.3</td>\n",
       "      <td>2.5</td>\n",
       "      <td>5.0</td>\n",
       "      <td>1.9</td>\n",
       "      <td>Iris-virginica</td>\n",
       "    </tr>\n",
       "    <tr>\n",
       "      <th>147</th>\n",
       "      <td>6.5</td>\n",
       "      <td>3.0</td>\n",
       "      <td>5.2</td>\n",
       "      <td>2.0</td>\n",
       "      <td>Iris-virginica</td>\n",
       "    </tr>\n",
       "    <tr>\n",
       "      <th>148</th>\n",
       "      <td>6.2</td>\n",
       "      <td>3.4</td>\n",
       "      <td>5.4</td>\n",
       "      <td>2.3</td>\n",
       "      <td>Iris-virginica</td>\n",
       "    </tr>\n",
       "    <tr>\n",
       "      <th>149</th>\n",
       "      <td>5.9</td>\n",
       "      <td>3.0</td>\n",
       "      <td>5.1</td>\n",
       "      <td>1.8</td>\n",
       "      <td>Iris-virginica</td>\n",
       "    </tr>\n",
       "  </tbody>\n",
       "</table>\n",
       "<p>150 rows × 5 columns</p>\n",
       "</div>"
      ],
      "text/plain": [
       "     sepal_length  sepal_width  petal_length  petal_width         species\n",
       "0             5.1          3.5           1.4          0.2     Iris-setosa\n",
       "1             4.9          3.0           1.4          0.2     Iris-setosa\n",
       "2             4.7          3.2           1.3          0.2     Iris-setosa\n",
       "3             4.6          3.1           1.5          0.2     Iris-setosa\n",
       "4             5.0          3.6           1.4          0.2     Iris-setosa\n",
       "..            ...          ...           ...          ...             ...\n",
       "145           6.7          3.0           5.2          2.3  Iris-virginica\n",
       "146           6.3          2.5           5.0          1.9  Iris-virginica\n",
       "147           6.5          3.0           5.2          2.0  Iris-virginica\n",
       "148           6.2          3.4           5.4          2.3  Iris-virginica\n",
       "149           5.9          3.0           5.1          1.8  Iris-virginica\n",
       "\n",
       "[150 rows x 5 columns]"
      ]
     },
     "execution_count": 3,
     "metadata": {},
     "output_type": "execute_result"
    }
   ],
   "source": [
    "df"
   ]
  },
  {
   "cell_type": "markdown",
   "id": "other-hughes",
   "metadata": {
    "papermill": {
     "duration": 0.05196,
     "end_time": "2021-04-05T13:13:29.544872",
     "exception": false,
     "start_time": "2021-04-05T13:13:29.492912",
     "status": "completed"
    },
    "tags": []
   },
   "source": [
    "**Veri çerçevesinin ilk beş değerini gösterelim.**\n",
    "\n",
    "\n"
   ]
  },
  {
   "cell_type": "code",
   "execution_count": 4,
   "id": "numerous-commonwealth",
   "metadata": {
    "execution": {
     "iopub.execute_input": "2021-04-05T13:13:29.656017Z",
     "iopub.status.busy": "2021-04-05T13:13:29.655037Z",
     "iopub.status.idle": "2021-04-05T13:13:29.661164Z",
     "shell.execute_reply": "2021-04-05T13:13:29.660513Z"
    },
    "papermill": {
     "duration": 0.06769,
     "end_time": "2021-04-05T13:13:29.661336",
     "exception": false,
     "start_time": "2021-04-05T13:13:29.593646",
     "status": "completed"
    },
    "tags": []
   },
   "outputs": [
    {
     "data": {
      "text/html": [
       "<div>\n",
       "<style scoped>\n",
       "    .dataframe tbody tr th:only-of-type {\n",
       "        vertical-align: middle;\n",
       "    }\n",
       "\n",
       "    .dataframe tbody tr th {\n",
       "        vertical-align: top;\n",
       "    }\n",
       "\n",
       "    .dataframe thead th {\n",
       "        text-align: right;\n",
       "    }\n",
       "</style>\n",
       "<table border=\"1\" class=\"dataframe\">\n",
       "  <thead>\n",
       "    <tr style=\"text-align: right;\">\n",
       "      <th></th>\n",
       "      <th>sepal_length</th>\n",
       "      <th>sepal_width</th>\n",
       "      <th>petal_length</th>\n",
       "      <th>petal_width</th>\n",
       "      <th>species</th>\n",
       "    </tr>\n",
       "  </thead>\n",
       "  <tbody>\n",
       "    <tr>\n",
       "      <th>0</th>\n",
       "      <td>5.1</td>\n",
       "      <td>3.5</td>\n",
       "      <td>1.4</td>\n",
       "      <td>0.2</td>\n",
       "      <td>Iris-setosa</td>\n",
       "    </tr>\n",
       "    <tr>\n",
       "      <th>1</th>\n",
       "      <td>4.9</td>\n",
       "      <td>3.0</td>\n",
       "      <td>1.4</td>\n",
       "      <td>0.2</td>\n",
       "      <td>Iris-setosa</td>\n",
       "    </tr>\n",
       "    <tr>\n",
       "      <th>2</th>\n",
       "      <td>4.7</td>\n",
       "      <td>3.2</td>\n",
       "      <td>1.3</td>\n",
       "      <td>0.2</td>\n",
       "      <td>Iris-setosa</td>\n",
       "    </tr>\n",
       "    <tr>\n",
       "      <th>3</th>\n",
       "      <td>4.6</td>\n",
       "      <td>3.1</td>\n",
       "      <td>1.5</td>\n",
       "      <td>0.2</td>\n",
       "      <td>Iris-setosa</td>\n",
       "    </tr>\n",
       "    <tr>\n",
       "      <th>4</th>\n",
       "      <td>5.0</td>\n",
       "      <td>3.6</td>\n",
       "      <td>1.4</td>\n",
       "      <td>0.2</td>\n",
       "      <td>Iris-setosa</td>\n",
       "    </tr>\n",
       "  </tbody>\n",
       "</table>\n",
       "</div>"
      ],
      "text/plain": [
       "   sepal_length  sepal_width  petal_length  petal_width      species\n",
       "0           5.1          3.5           1.4          0.2  Iris-setosa\n",
       "1           4.9          3.0           1.4          0.2  Iris-setosa\n",
       "2           4.7          3.2           1.3          0.2  Iris-setosa\n",
       "3           4.6          3.1           1.5          0.2  Iris-setosa\n",
       "4           5.0          3.6           1.4          0.2  Iris-setosa"
      ]
     },
     "execution_count": 4,
     "metadata": {},
     "output_type": "execute_result"
    }
   ],
   "source": [
    "df.head()"
   ]
  },
  {
   "cell_type": "markdown",
   "id": "indoor-monte",
   "metadata": {
    "papermill": {
     "duration": 0.050426,
     "end_time": "2021-04-05T13:13:29.760963",
     "exception": false,
     "start_time": "2021-04-05T13:13:29.710537",
     "status": "completed"
    },
    "tags": []
   },
   "source": [
    "**+Veri çerçevesinin beliri bir kısmını görelim.**"
   ]
  },
  {
   "cell_type": "code",
   "execution_count": 5,
   "id": "primary-health",
   "metadata": {
    "execution": {
     "iopub.execute_input": "2021-04-05T13:13:29.870966Z",
     "iopub.status.busy": "2021-04-05T13:13:29.870279Z",
     "iopub.status.idle": "2021-04-05T13:13:29.875477Z",
     "shell.execute_reply": "2021-04-05T13:13:29.874931Z"
    },
    "papermill": {
     "duration": 0.064653,
     "end_time": "2021-04-05T13:13:29.875619",
     "exception": false,
     "start_time": "2021-04-05T13:13:29.810966",
     "status": "completed"
    },
    "tags": []
   },
   "outputs": [
    {
     "data": {
      "text/html": [
       "<div>\n",
       "<style scoped>\n",
       "    .dataframe tbody tr th:only-of-type {\n",
       "        vertical-align: middle;\n",
       "    }\n",
       "\n",
       "    .dataframe tbody tr th {\n",
       "        vertical-align: top;\n",
       "    }\n",
       "\n",
       "    .dataframe thead th {\n",
       "        text-align: right;\n",
       "    }\n",
       "</style>\n",
       "<table border=\"1\" class=\"dataframe\">\n",
       "  <thead>\n",
       "    <tr style=\"text-align: right;\">\n",
       "      <th></th>\n",
       "      <th>sepal_length</th>\n",
       "      <th>sepal_width</th>\n",
       "    </tr>\n",
       "  </thead>\n",
       "  <tbody>\n",
       "    <tr>\n",
       "      <th>0</th>\n",
       "      <td>5.1</td>\n",
       "      <td>3.5</td>\n",
       "    </tr>\n",
       "    <tr>\n",
       "      <th>1</th>\n",
       "      <td>4.9</td>\n",
       "      <td>3.0</td>\n",
       "    </tr>\n",
       "    <tr>\n",
       "      <th>2</th>\n",
       "      <td>4.7</td>\n",
       "      <td>3.2</td>\n",
       "    </tr>\n",
       "  </tbody>\n",
       "</table>\n",
       "</div>"
      ],
      "text/plain": [
       "   sepal_length  sepal_width\n",
       "0           5.1          3.5\n",
       "1           4.9          3.0\n",
       "2           4.7          3.2"
      ]
     },
     "execution_count": 5,
     "metadata": {},
     "output_type": "execute_result"
    }
   ],
   "source": [
    "df.iloc[0:3 , 0:2] "
   ]
  },
  {
   "cell_type": "markdown",
   "id": "patient-nitrogen",
   "metadata": {
    "papermill": {
     "duration": 0.050934,
     "end_time": "2021-04-05T13:13:29.976174",
     "exception": false,
     "start_time": "2021-04-05T13:13:29.925240",
     "status": "completed"
    },
    "tags": []
   },
   "source": [
    "**+Liste aracılığı ile öznitelikleri seçerek gösterelim**"
   ]
  },
  {
   "cell_type": "code",
   "execution_count": 6,
   "id": "colonial-above",
   "metadata": {
    "execution": {
     "iopub.execute_input": "2021-04-05T13:13:30.089864Z",
     "iopub.status.busy": "2021-04-05T13:13:30.089047Z",
     "iopub.status.idle": "2021-04-05T13:13:30.093105Z",
     "shell.execute_reply": "2021-04-05T13:13:30.092484Z"
    },
    "papermill": {
     "duration": 0.066076,
     "end_time": "2021-04-05T13:13:30.093248",
     "exception": false,
     "start_time": "2021-04-05T13:13:30.027172",
     "status": "completed"
    },
    "tags": []
   },
   "outputs": [
    {
     "data": {
      "text/html": [
       "<div>\n",
       "<style scoped>\n",
       "    .dataframe tbody tr th:only-of-type {\n",
       "        vertical-align: middle;\n",
       "    }\n",
       "\n",
       "    .dataframe tbody tr th {\n",
       "        vertical-align: top;\n",
       "    }\n",
       "\n",
       "    .dataframe thead th {\n",
       "        text-align: right;\n",
       "    }\n",
       "</style>\n",
       "<table border=\"1\" class=\"dataframe\">\n",
       "  <thead>\n",
       "    <tr style=\"text-align: right;\">\n",
       "      <th></th>\n",
       "      <th>sepal_length</th>\n",
       "      <th>sepal_width</th>\n",
       "    </tr>\n",
       "  </thead>\n",
       "  <tbody>\n",
       "    <tr>\n",
       "      <th>0</th>\n",
       "      <td>5.1</td>\n",
       "      <td>3.5</td>\n",
       "    </tr>\n",
       "    <tr>\n",
       "      <th>1</th>\n",
       "      <td>4.9</td>\n",
       "      <td>3.0</td>\n",
       "    </tr>\n",
       "    <tr>\n",
       "      <th>2</th>\n",
       "      <td>4.7</td>\n",
       "      <td>3.2</td>\n",
       "    </tr>\n",
       "  </tbody>\n",
       "</table>\n",
       "</div>"
      ],
      "text/plain": [
       "   sepal_length  sepal_width\n",
       "0           5.1          3.5\n",
       "1           4.9          3.0\n",
       "2           4.7          3.2"
      ]
     },
     "execution_count": 6,
     "metadata": {},
     "output_type": "execute_result"
    }
   ],
   "source": [
    "liste = [\"sepal_length\",\"sepal_width\"]\n",
    "df.head(3)[liste]"
   ]
  },
  {
   "cell_type": "markdown",
   "id": "accepting-elements",
   "metadata": {
    "papermill": {
     "duration": 0.051652,
     "end_time": "2021-04-05T13:13:30.195754",
     "exception": false,
     "start_time": "2021-04-05T13:13:30.144102",
     "status": "completed"
    },
    "tags": []
   },
   "source": [
    "**+Listenin içinde ki özniteliklerin df içinde olup olmadığını sorgulayalım.**"
   ]
  },
  {
   "cell_type": "code",
   "execution_count": 7,
   "id": "innovative-frost",
   "metadata": {
    "execution": {
     "iopub.execute_input": "2021-04-05T13:13:30.300202Z",
     "iopub.status.busy": "2021-04-05T13:13:30.299502Z",
     "iopub.status.idle": "2021-04-05T13:13:30.304875Z",
     "shell.execute_reply": "2021-04-05T13:13:30.305529Z"
    },
    "papermill": {
     "duration": 0.05966,
     "end_time": "2021-04-05T13:13:30.305720",
     "exception": false,
     "start_time": "2021-04-05T13:13:30.246060",
     "status": "completed"
    },
    "tags": []
   },
   "outputs": [
    {
     "name": "stdout",
     "output_type": "stream",
     "text": [
      "True\n",
      "True\n"
     ]
    }
   ],
   "source": [
    "for i in liste:\n",
    "    print(i in df)"
   ]
  },
  {
   "cell_type": "markdown",
   "id": "ranging-danger",
   "metadata": {
    "papermill": {
     "duration": 0.050651,
     "end_time": "2021-04-05T13:13:30.407545",
     "exception": false,
     "start_time": "2021-04-05T13:13:30.356894",
     "status": "completed"
    },
    "tags": []
   },
   "source": [
    "***Veri çerçevesinin kaç öznitelik ve kaç gözlemden oluştuğunu görüntüleyelim.***"
   ]
  },
  {
   "cell_type": "code",
   "execution_count": 8,
   "id": "secondary-hanging",
   "metadata": {
    "execution": {
     "iopub.execute_input": "2021-04-05T13:13:30.516820Z",
     "iopub.status.busy": "2021-04-05T13:13:30.515675Z",
     "iopub.status.idle": "2021-04-05T13:13:30.521086Z",
     "shell.execute_reply": "2021-04-05T13:13:30.521657Z"
    },
    "papermill": {
     "duration": 0.063384,
     "end_time": "2021-04-05T13:13:30.521845",
     "exception": false,
     "start_time": "2021-04-05T13:13:30.458461",
     "status": "completed"
    },
    "tags": []
   },
   "outputs": [
    {
     "data": {
      "text/plain": [
       "[RangeIndex(start=0, stop=150, step=1),\n",
       " Index(['sepal_length', 'sepal_width', 'petal_length', 'petal_width',\n",
       "        'species'],\n",
       "       dtype='object')]"
      ]
     },
     "execution_count": 8,
     "metadata": {},
     "output_type": "execute_result"
    }
   ],
   "source": [
    "df.axes #150 gözlemden oluşur"
   ]
  },
  {
   "cell_type": "code",
   "execution_count": 9,
   "id": "controversial-banks",
   "metadata": {
    "execution": {
     "iopub.execute_input": "2021-04-05T13:13:30.631576Z",
     "iopub.status.busy": "2021-04-05T13:13:30.630533Z",
     "iopub.status.idle": "2021-04-05T13:13:30.635114Z",
     "shell.execute_reply": "2021-04-05T13:13:30.634607Z"
    },
    "papermill": {
     "duration": 0.061033,
     "end_time": "2021-04-05T13:13:30.635257",
     "exception": false,
     "start_time": "2021-04-05T13:13:30.574224",
     "status": "completed"
    },
    "tags": []
   },
   "outputs": [
    {
     "data": {
      "text/plain": [
       "5"
      ]
     },
     "execution_count": 9,
     "metadata": {},
     "output_type": "execute_result"
    }
   ],
   "source": [
    "df.columns.size #5 öznitelikten oluşur."
   ]
  },
  {
   "cell_type": "code",
   "execution_count": 10,
   "id": "cross-tsunami",
   "metadata": {
    "execution": {
     "iopub.execute_input": "2021-04-05T13:13:30.745481Z",
     "iopub.status.busy": "2021-04-05T13:13:30.744571Z",
     "iopub.status.idle": "2021-04-05T13:13:30.748141Z",
     "shell.execute_reply": "2021-04-05T13:13:30.748707Z"
    },
    "papermill": {
     "duration": 0.06122,
     "end_time": "2021-04-05T13:13:30.748878",
     "exception": false,
     "start_time": "2021-04-05T13:13:30.687658",
     "status": "completed"
    },
    "tags": []
   },
   "outputs": [
    {
     "data": {
      "text/plain": [
       "(150, 5)"
      ]
     },
     "execution_count": 10,
     "metadata": {},
     "output_type": "execute_result"
    }
   ],
   "source": [
    "df.shape #Gözlem ve öznitelik sayılarını gösteren kodumuz"
   ]
  },
  {
   "cell_type": "markdown",
   "id": "narrow-august",
   "metadata": {
    "papermill": {
     "duration": 0.051733,
     "end_time": "2021-04-05T13:13:30.853195",
     "exception": false,
     "start_time": "2021-04-05T13:13:30.801462",
     "status": "completed"
    },
    "tags": []
   },
   "source": [
    "**+Veri çerçevesinin boyutunu görüntüleyelim.**"
   ]
  },
  {
   "cell_type": "code",
   "execution_count": 11,
   "id": "strategic-conditioning",
   "metadata": {
    "execution": {
     "iopub.execute_input": "2021-04-05T13:13:30.962082Z",
     "iopub.status.busy": "2021-04-05T13:13:30.961113Z",
     "iopub.status.idle": "2021-04-05T13:13:30.967588Z",
     "shell.execute_reply": "2021-04-05T13:13:30.968161Z"
    },
    "papermill": {
     "duration": 0.063189,
     "end_time": "2021-04-05T13:13:30.968332",
     "exception": false,
     "start_time": "2021-04-05T13:13:30.905143",
     "status": "completed"
    },
    "tags": []
   },
   "outputs": [
    {
     "data": {
      "text/plain": [
       "2"
      ]
     },
     "execution_count": 11,
     "metadata": {},
     "output_type": "execute_result"
    }
   ],
   "source": [
    "df.ndim"
   ]
  },
  {
   "cell_type": "markdown",
   "id": "prime-writing",
   "metadata": {
    "papermill": {
     "duration": 0.052838,
     "end_time": "2021-04-05T13:13:31.074349",
     "exception": false,
     "start_time": "2021-04-05T13:13:31.021511",
     "status": "completed"
    },
    "tags": []
   },
   "source": [
    "***Veri çerçevesindeki değişkenlerin hangi tipte olduğunu ve bellek kullanımını görüntüleyelim.***"
   ]
  },
  {
   "cell_type": "code",
   "execution_count": 12,
   "id": "educated-parks",
   "metadata": {
    "execution": {
     "iopub.execute_input": "2021-04-05T13:13:31.202996Z",
     "iopub.status.busy": "2021-04-05T13:13:31.202229Z",
     "iopub.status.idle": "2021-04-05T13:13:31.205908Z",
     "shell.execute_reply": "2021-04-05T13:13:31.206495Z"
    },
    "papermill": {
     "duration": 0.078327,
     "end_time": "2021-04-05T13:13:31.206699",
     "exception": false,
     "start_time": "2021-04-05T13:13:31.128372",
     "status": "completed"
    },
    "tags": []
   },
   "outputs": [
    {
     "name": "stdout",
     "output_type": "stream",
     "text": [
      "<class 'pandas.core.frame.DataFrame'>\n",
      "RangeIndex: 150 entries, 0 to 149\n",
      "Data columns (total 5 columns):\n",
      " #   Column        Non-Null Count  Dtype  \n",
      "---  ------        --------------  -----  \n",
      " 0   sepal_length  150 non-null    float64\n",
      " 1   sepal_width   150 non-null    float64\n",
      " 2   petal_length  150 non-null    float64\n",
      " 3   petal_width   150 non-null    float64\n",
      " 4   species       150 non-null    object \n",
      "dtypes: float64(4), object(1)\n",
      "memory usage: 6.0+ KB\n"
     ]
    }
   ],
   "source": [
    "df.info()"
   ]
  },
  {
   "cell_type": "markdown",
   "id": "weekly-comment",
   "metadata": {
    "papermill": {
     "duration": 0.053129,
     "end_time": "2021-04-05T13:13:31.314542",
     "exception": false,
     "start_time": "2021-04-05T13:13:31.261413",
     "status": "completed"
    },
    "tags": []
   },
   "source": [
    "**Veri çerçevesindeki sayısal değişkenler için temel istatistik değerlerini görüntüleyelim.**\n",
    "\n",
    "**Standart sapma ve ortalama değerlerden çıkarımda bulunarak hangi değişkenlerin ne kadar varyansa sahip olduğu hakkında fikir yürütelim.**"
   ]
  },
  {
   "cell_type": "code",
   "execution_count": 13,
   "id": "revolutionary-classic",
   "metadata": {
    "execution": {
     "iopub.execute_input": "2021-04-05T13:13:31.433177Z",
     "iopub.status.busy": "2021-04-05T13:13:31.432464Z",
     "iopub.status.idle": "2021-04-05T13:13:31.459840Z",
     "shell.execute_reply": "2021-04-05T13:13:31.459225Z"
    },
    "papermill": {
     "duration": 0.090082,
     "end_time": "2021-04-05T13:13:31.459991",
     "exception": false,
     "start_time": "2021-04-05T13:13:31.369909",
     "status": "completed"
    },
    "tags": []
   },
   "outputs": [
    {
     "data": {
      "text/html": [
       "<div>\n",
       "<style scoped>\n",
       "    .dataframe tbody tr th:only-of-type {\n",
       "        vertical-align: middle;\n",
       "    }\n",
       "\n",
       "    .dataframe tbody tr th {\n",
       "        vertical-align: top;\n",
       "    }\n",
       "\n",
       "    .dataframe thead th {\n",
       "        text-align: right;\n",
       "    }\n",
       "</style>\n",
       "<table border=\"1\" class=\"dataframe\">\n",
       "  <thead>\n",
       "    <tr style=\"text-align: right;\">\n",
       "      <th></th>\n",
       "      <th>count</th>\n",
       "      <th>mean</th>\n",
       "      <th>std</th>\n",
       "      <th>min</th>\n",
       "      <th>25%</th>\n",
       "      <th>50%</th>\n",
       "      <th>75%</th>\n",
       "      <th>max</th>\n",
       "    </tr>\n",
       "  </thead>\n",
       "  <tbody>\n",
       "    <tr>\n",
       "      <th>sepal_length</th>\n",
       "      <td>150.0</td>\n",
       "      <td>5.843333</td>\n",
       "      <td>0.828066</td>\n",
       "      <td>4.3</td>\n",
       "      <td>5.1</td>\n",
       "      <td>5.80</td>\n",
       "      <td>6.4</td>\n",
       "      <td>7.9</td>\n",
       "    </tr>\n",
       "    <tr>\n",
       "      <th>sepal_width</th>\n",
       "      <td>150.0</td>\n",
       "      <td>3.054000</td>\n",
       "      <td>0.433594</td>\n",
       "      <td>2.0</td>\n",
       "      <td>2.8</td>\n",
       "      <td>3.00</td>\n",
       "      <td>3.3</td>\n",
       "      <td>4.4</td>\n",
       "    </tr>\n",
       "    <tr>\n",
       "      <th>petal_length</th>\n",
       "      <td>150.0</td>\n",
       "      <td>3.758667</td>\n",
       "      <td>1.764420</td>\n",
       "      <td>1.0</td>\n",
       "      <td>1.6</td>\n",
       "      <td>4.35</td>\n",
       "      <td>5.1</td>\n",
       "      <td>6.9</td>\n",
       "    </tr>\n",
       "    <tr>\n",
       "      <th>petal_width</th>\n",
       "      <td>150.0</td>\n",
       "      <td>1.198667</td>\n",
       "      <td>0.763161</td>\n",
       "      <td>0.1</td>\n",
       "      <td>0.3</td>\n",
       "      <td>1.30</td>\n",
       "      <td>1.8</td>\n",
       "      <td>2.5</td>\n",
       "    </tr>\n",
       "  </tbody>\n",
       "</table>\n",
       "</div>"
      ],
      "text/plain": [
       "              count      mean       std  min  25%   50%  75%  max\n",
       "sepal_length  150.0  5.843333  0.828066  4.3  5.1  5.80  6.4  7.9\n",
       "sepal_width   150.0  3.054000  0.433594  2.0  2.8  3.00  3.3  4.4\n",
       "petal_length  150.0  3.758667  1.764420  1.0  1.6  4.35  5.1  6.9\n",
       "petal_width   150.0  1.198667  0.763161  0.1  0.3  1.30  1.8  2.5"
      ]
     },
     "execution_count": 13,
     "metadata": {},
     "output_type": "execute_result"
    }
   ],
   "source": [
    "df.describe().T"
   ]
  },
  {
   "cell_type": "markdown",
   "id": "sensitive-logistics",
   "metadata": {
    "papermill": {
     "duration": 0.056287,
     "end_time": "2021-04-05T13:13:31.571646",
     "exception": false,
     "start_time": "2021-04-05T13:13:31.515359",
     "status": "completed"
    },
    "tags": []
   },
   "source": [
    "\n",
    "\n",
    "**+Herhangi bir özniteliğin istatistik değerlerini tek basına görmek istersek...**"
   ]
  },
  {
   "cell_type": "code",
   "execution_count": 14,
   "id": "satisfactory-chair",
   "metadata": {
    "execution": {
     "iopub.execute_input": "2021-04-05T13:13:31.686012Z",
     "iopub.status.busy": "2021-04-05T13:13:31.685258Z",
     "iopub.status.idle": "2021-04-05T13:13:31.690005Z",
     "shell.execute_reply": "2021-04-05T13:13:31.689295Z"
    },
    "papermill": {
     "duration": 0.064376,
     "end_time": "2021-04-05T13:13:31.690156",
     "exception": false,
     "start_time": "2021-04-05T13:13:31.625780",
     "status": "completed"
    },
    "tags": []
   },
   "outputs": [
    {
     "data": {
      "text/plain": [
       "5.843333333333335"
      ]
     },
     "execution_count": 14,
     "metadata": {},
     "output_type": "execute_result"
    }
   ],
   "source": [
    "df[\"sepal_length\"].mean()\n",
    "\n",
    "#.std()---.median()\n",
    "#.std()**2"
   ]
  },
  {
   "cell_type": "markdown",
   "id": "mediterranean-geometry",
   "metadata": {
    "papermill": {
     "duration": 0.054714,
     "end_time": "2021-04-05T13:13:31.798720",
     "exception": false,
     "start_time": "2021-04-05T13:13:31.744006",
     "status": "completed"
    },
    "tags": []
   },
   "source": [
    "**Veri çerçevesinde hangi öznitelikte kaç adet eksik değer olduğunu gözlemleyelim.**"
   ]
  },
  {
   "cell_type": "code",
   "execution_count": 15,
   "id": "dressed-nickname",
   "metadata": {
    "execution": {
     "iopub.execute_input": "2021-04-05T13:13:31.918363Z",
     "iopub.status.busy": "2021-04-05T13:13:31.917652Z",
     "iopub.status.idle": "2021-04-05T13:13:31.922892Z",
     "shell.execute_reply": "2021-04-05T13:13:31.922292Z"
    },
    "papermill": {
     "duration": 0.067526,
     "end_time": "2021-04-05T13:13:31.923041",
     "exception": false,
     "start_time": "2021-04-05T13:13:31.855515",
     "status": "completed"
    },
    "tags": []
   },
   "outputs": [
    {
     "data": {
      "text/plain": [
       "sepal_length    0\n",
       "sepal_width     0\n",
       "petal_length    0\n",
       "petal_width     0\n",
       "species         0\n",
       "dtype: int64"
      ]
     },
     "execution_count": 15,
     "metadata": {},
     "output_type": "execute_result"
    }
   ],
   "source": [
    "df.isna().sum() "
   ]
  },
  {
   "cell_type": "markdown",
   "id": "bronze-lobby",
   "metadata": {
    "papermill": {
     "duration": 0.057018,
     "end_time": "2021-04-05T13:13:32.035983",
     "exception": false,
     "start_time": "2021-04-05T13:13:31.978965",
     "status": "completed"
    },
    "tags": []
   },
   "source": [
    "**Sayısal değişkenler arasında korelasyon olup olmadığını göstermek için korelasyon matrisi çizdirelim. Korelasyon katsayıları hakkında fikir yürütelim.**\n",
    "\n",
    "**En güçlü pozitif ilişki hangi iki değişken arasındadır?**"
   ]
  },
  {
   "cell_type": "code",
   "execution_count": 16,
   "id": "undefined-worth",
   "metadata": {
    "execution": {
     "iopub.execute_input": "2021-04-05T13:13:32.159166Z",
     "iopub.status.busy": "2021-04-05T13:13:32.158464Z",
     "iopub.status.idle": "2021-04-05T13:13:32.163265Z",
     "shell.execute_reply": "2021-04-05T13:13:32.162656Z"
    },
    "papermill": {
     "duration": 0.072126,
     "end_time": "2021-04-05T13:13:32.163413",
     "exception": false,
     "start_time": "2021-04-05T13:13:32.091287",
     "status": "completed"
    },
    "tags": []
   },
   "outputs": [
    {
     "data": {
      "text/html": [
       "<div>\n",
       "<style scoped>\n",
       "    .dataframe tbody tr th:only-of-type {\n",
       "        vertical-align: middle;\n",
       "    }\n",
       "\n",
       "    .dataframe tbody tr th {\n",
       "        vertical-align: top;\n",
       "    }\n",
       "\n",
       "    .dataframe thead th {\n",
       "        text-align: right;\n",
       "    }\n",
       "</style>\n",
       "<table border=\"1\" class=\"dataframe\">\n",
       "  <thead>\n",
       "    <tr style=\"text-align: right;\">\n",
       "      <th></th>\n",
       "      <th>sepal_length</th>\n",
       "      <th>sepal_width</th>\n",
       "      <th>petal_length</th>\n",
       "      <th>petal_width</th>\n",
       "    </tr>\n",
       "  </thead>\n",
       "  <tbody>\n",
       "    <tr>\n",
       "      <th>sepal_length</th>\n",
       "      <td>1.000000</td>\n",
       "      <td>-0.109369</td>\n",
       "      <td>0.871754</td>\n",
       "      <td>0.817954</td>\n",
       "    </tr>\n",
       "    <tr>\n",
       "      <th>sepal_width</th>\n",
       "      <td>-0.109369</td>\n",
       "      <td>1.000000</td>\n",
       "      <td>-0.420516</td>\n",
       "      <td>-0.356544</td>\n",
       "    </tr>\n",
       "    <tr>\n",
       "      <th>petal_length</th>\n",
       "      <td>0.871754</td>\n",
       "      <td>-0.420516</td>\n",
       "      <td>1.000000</td>\n",
       "      <td>0.962757</td>\n",
       "    </tr>\n",
       "    <tr>\n",
       "      <th>petal_width</th>\n",
       "      <td>0.817954</td>\n",
       "      <td>-0.356544</td>\n",
       "      <td>0.962757</td>\n",
       "      <td>1.000000</td>\n",
       "    </tr>\n",
       "  </tbody>\n",
       "</table>\n",
       "</div>"
      ],
      "text/plain": [
       "              sepal_length  sepal_width  petal_length  petal_width\n",
       "sepal_length      1.000000    -0.109369      0.871754     0.817954\n",
       "sepal_width      -0.109369     1.000000     -0.420516    -0.356544\n",
       "petal_length      0.871754    -0.420516      1.000000     0.962757\n",
       "petal_width       0.817954    -0.356544      0.962757     1.000000"
      ]
     },
     "execution_count": 16,
     "metadata": {},
     "output_type": "execute_result"
    }
   ],
   "source": [
    "df.corr()"
   ]
  },
  {
   "cell_type": "markdown",
   "id": "minor-leader",
   "metadata": {
    "papermill": {
     "duration": 0.054629,
     "end_time": "2021-04-05T13:13:32.274118",
     "exception": false,
     "start_time": "2021-04-05T13:13:32.219489",
     "status": "completed"
    },
    "tags": []
   },
   "source": [
    "**Korelasyon katsayılarını daha iyi okuyabilmek için ısı haritası çizdirelim.**"
   ]
  },
  {
   "cell_type": "code",
   "execution_count": 17,
   "id": "armed-string",
   "metadata": {
    "execution": {
     "iopub.execute_input": "2021-04-05T13:13:32.408385Z",
     "iopub.status.busy": "2021-04-05T13:13:32.407694Z",
     "iopub.status.idle": "2021-04-05T13:13:32.656093Z",
     "shell.execute_reply": "2021-04-05T13:13:32.656647Z"
    },
    "papermill": {
     "duration": 0.327513,
     "end_time": "2021-04-05T13:13:32.656840",
     "exception": false,
     "start_time": "2021-04-05T13:13:32.329327",
     "status": "completed"
    },
    "tags": []
   },
   "outputs": [
    {
     "data": {
      "text/plain": [
       "<AxesSubplot:>"
      ]
     },
     "execution_count": 17,
     "metadata": {},
     "output_type": "execute_result"
    },
    {
     "data": {
      "image/png": "[encoded data removed]",
      "text/plain": [
       "<Figure size 432x288 with 2 Axes>"
      ]
     },
     "metadata": {
      "needs_background": "light"
     },
     "output_type": "display_data"
    }
   ],
   "source": [
    "corr = df.corr()\n",
    "sns.heatmap(corr, xticklabels= corr.columns.values, yticklabels= corr.columns.values)"
   ]
  },
  {
   "cell_type": "markdown",
   "id": "chief-proceeding",
   "metadata": {
    "papermill": {
     "duration": 0.056659,
     "end_time": "2021-04-05T13:13:32.784876",
     "exception": false,
     "start_time": "2021-04-05T13:13:32.728217",
     "status": "completed"
    },
    "tags": []
   },
   "source": [
    "**Veri çerçevemizin hedef değişkeninin \"variety\" benzersiz değerlerini görüntüleyelim.**"
   ]
  },
  {
   "cell_type": "code",
   "execution_count": 18,
   "id": "premier-armor",
   "metadata": {
    "execution": {
     "iopub.execute_input": "2021-04-05T13:13:32.905590Z",
     "iopub.status.busy": "2021-04-05T13:13:32.904582Z",
     "iopub.status.idle": "2021-04-05T13:13:32.910012Z",
     "shell.execute_reply": "2021-04-05T13:13:32.909425Z"
    },
    "papermill": {
     "duration": 0.067773,
     "end_time": "2021-04-05T13:13:32.910154",
     "exception": false,
     "start_time": "2021-04-05T13:13:32.842381",
     "status": "completed"
    },
    "tags": []
   },
   "outputs": [
    {
     "data": {
      "text/plain": [
       "array(['Iris-setosa', 'Iris-versicolor', 'Iris-virginica'], dtype=object)"
      ]
     },
     "execution_count": 18,
     "metadata": {},
     "output_type": "execute_result"
    }
   ],
   "source": [
    "df[\"species\"].unique()"
   ]
  },
  {
   "cell_type": "markdown",
   "id": "positive-professor",
   "metadata": {
    "papermill": {
     "duration": 0.056666,
     "end_time": "2021-04-05T13:13:33.024684",
     "exception": false,
     "start_time": "2021-04-05T13:13:32.968018",
     "status": "completed"
    },
    "tags": []
   },
   "source": [
    "**Veri çerçevemizin hedef değişkeninin \"variety\" benzersiz kaç adet değer içerdiğini görüntüleyelim.**"
   ]
  },
  {
   "cell_type": "code",
   "execution_count": 19,
   "id": "german-folder",
   "metadata": {
    "execution": {
     "iopub.execute_input": "2021-04-05T13:13:33.147970Z",
     "iopub.status.busy": "2021-04-05T13:13:33.147214Z",
     "iopub.status.idle": "2021-04-05T13:13:33.151898Z",
     "shell.execute_reply": "2021-04-05T13:13:33.151229Z"
    },
    "papermill": {
     "duration": 0.068941,
     "end_time": "2021-04-05T13:13:33.152153",
     "exception": false,
     "start_time": "2021-04-05T13:13:33.083212",
     "status": "completed"
    },
    "tags": []
   },
   "outputs": [
    {
     "data": {
      "text/plain": [
       "3"
      ]
     },
     "execution_count": 19,
     "metadata": {},
     "output_type": "execute_result"
    }
   ],
   "source": [
    "df[\"species\"].unique().size #nunique de olur."
   ]
  },
  {
   "cell_type": "code",
   "execution_count": 20,
   "id": "subjective-horror",
   "metadata": {
    "execution": {
     "iopub.execute_input": "2021-04-05T13:13:33.273845Z",
     "iopub.status.busy": "2021-04-05T13:13:33.273042Z",
     "iopub.status.idle": "2021-04-05T13:13:33.747971Z",
     "shell.execute_reply": "2021-04-05T13:13:33.747363Z"
    },
    "papermill": {
     "duration": 0.538045,
     "end_time": "2021-04-05T13:13:33.748129",
     "exception": false,
     "start_time": "2021-04-05T13:13:33.210084",
     "status": "completed"
    },
    "tags": []
   },
   "outputs": [
    {
     "name": "stderr",
     "output_type": "stream",
     "text": [
      "/opt/conda/lib/python3.7/site-packages/seaborn/distributions.py:2557: FutureWarning: `distplot` is a deprecated function and will be removed in a future version. Please adapt your code to use either `displot` (a figure-level function with similar flexibility) or `histplot` (an axes-level function for histograms).\n",
      "  warnings.warn(msg, FutureWarning)\n",
      "/opt/conda/lib/python3.7/site-packages/seaborn/distributions.py:2557: FutureWarning: `distplot` is a deprecated function and will be removed in a future version. Please adapt your code to use either `displot` (a figure-level function with similar flexibility) or `histplot` (an axes-level function for histograms).\n",
      "  warnings.warn(msg, FutureWarning)\n",
      "/opt/conda/lib/python3.7/site-packages/seaborn/distributions.py:2557: FutureWarning: `distplot` is a deprecated function and will be removed in a future version. Please adapt your code to use either `displot` (a figure-level function with similar flexibility) or `histplot` (an axes-level function for histograms).\n",
      "  warnings.warn(msg, FutureWarning)\n"
     ]
    },
    {
     "data": {
      "image/png": "[encoded data removed]",
      "text/plain": [
       "<Figure size 463.25x360 with 1 Axes>"
      ]
     },
     "metadata": {
      "needs_background": "light"
     },
     "output_type": "display_data"
    }
   ],
   "source": [
    "sns.FacetGrid(df,hue=\"species\",height=5).map(sns.distplot,\"petal_length\").add_legend();\n"
   ]
  },
  {
   "cell_type": "markdown",
   "id": "devoted-tomorrow",
   "metadata": {
    "papermill": {
     "duration": 0.060045,
     "end_time": "2021-04-05T13:13:33.867610",
     "exception": false,
     "start_time": "2021-04-05T13:13:33.807565",
     "status": "completed"
    },
    "tags": []
   },
   "source": [
    "**+Vercicolor ve virginica çiçek türlerinin taç yaprak uzunluğu için değerlerinin bibirine çok yakın olduğunu, setosa'nın diğer iki çiçekten ayrıldığını görüyoruz.**"
   ]
  },
  {
   "cell_type": "code",
   "execution_count": 21,
   "id": "varying-content",
   "metadata": {
    "execution": {
     "iopub.execute_input": "2021-04-05T13:13:33.991666Z",
     "iopub.status.busy": "2021-04-05T13:13:33.990968Z",
     "iopub.status.idle": "2021-04-05T13:13:34.216106Z",
     "shell.execute_reply": "2021-04-05T13:13:34.215413Z"
    },
    "papermill": {
     "duration": 0.289945,
     "end_time": "2021-04-05T13:13:34.216353",
     "exception": false,
     "start_time": "2021-04-05T13:13:33.926408",
     "status": "completed"
    },
    "tags": []
   },
   "outputs": [
    {
     "data": {
      "image/png": "[encoded data removed]",
      "text/plain": [
       "<Figure size 432x288 with 1 Axes>"
      ]
     },
     "metadata": {
      "needs_background": "light"
     },
     "output_type": "display_data"
    }
   ],
   "source": [
    "sns.barplot(x =\"species\" , y = \"petal_length\" , data = df);"
   ]
  },
  {
   "cell_type": "markdown",
   "id": "periodic-residence",
   "metadata": {
    "papermill": {
     "duration": 0.059884,
     "end_time": "2021-04-05T13:13:34.337208",
     "exception": false,
     "start_time": "2021-04-05T13:13:34.277324",
     "status": "completed"
    },
    "tags": []
   },
   "source": [
    "**+Çiçek türlerinin taç yaprak uzunluğuna farklı bir bakış açısı olarak arasındaki farka net bir şekilde bakıyoruz.**"
   ]
  },
  {
   "cell_type": "markdown",
   "id": "protected-experience",
   "metadata": {
    "papermill": {
     "duration": 0.06155,
     "end_time": "2021-04-05T13:13:34.458690",
     "exception": false,
     "start_time": "2021-04-05T13:13:34.397140",
     "status": "completed"
    },
    "tags": []
   },
   "source": [
    "**Veri çerçevesindeki sepal.width ve sepal.length değişkenlerinin sürekli olduğunu görüyoruz. Bu iki sürekli veriyi görselleştirmek için önce scatterplot kullanalım.**"
   ]
  },
  {
   "cell_type": "code",
   "execution_count": 22,
   "id": "superb-sheffield",
   "metadata": {
    "execution": {
     "iopub.execute_input": "2021-04-05T13:13:34.623396Z",
     "iopub.status.busy": "2021-04-05T13:13:34.622056Z",
     "iopub.status.idle": "2021-04-05T13:13:34.771588Z",
     "shell.execute_reply": "2021-04-05T13:13:34.772158Z"
    },
    "papermill": {
     "duration": 0.253058,
     "end_time": "2021-04-05T13:13:34.772356",
     "exception": false,
     "start_time": "2021-04-05T13:13:34.519298",
     "status": "completed"
    },
    "tags": []
   },
   "outputs": [
    {
     "data": {
      "text/plain": [
       "<AxesSubplot:xlabel='sepal_width', ylabel='sepal_length'>"
      ]
     },
     "execution_count": 22,
     "metadata": {},
     "output_type": "execute_result"
    },
    {
     "data": {
      "image/png": "[encoded data removed]",
      "text/plain": [
       "<Figure size 432x288 with 1 Axes>"
      ]
     },
     "metadata": {
      "needs_background": "light"
     },
     "output_type": "display_data"
    }
   ],
   "source": [
    "sns.scatterplot(x=\"sepal_width\" , y=\"sepal_length\", data  = df , color=\"green\")"
   ]
  },
  {
   "cell_type": "markdown",
   "id": "fancy-enforcement",
   "metadata": {
    "papermill": {
     "duration": 0.061426,
     "end_time": "2021-04-05T13:13:34.895155",
     "exception": false,
     "start_time": "2021-04-05T13:13:34.833729",
     "status": "completed"
    },
    "tags": []
   },
   "source": [
    "**Aynı iki veriyi daha farklı bir açıdan frekanslarıyla incelemek için jointplot kullanarak görselleştirelim.**"
   ]
  },
  {
   "cell_type": "code",
   "execution_count": 23,
   "id": "passing-queue",
   "metadata": {
    "execution": {
     "iopub.execute_input": "2021-04-05T13:13:35.024410Z",
     "iopub.status.busy": "2021-04-05T13:13:35.023726Z",
     "iopub.status.idle": "2021-04-05T13:13:35.539984Z",
     "shell.execute_reply": "2021-04-05T13:13:35.539142Z"
    },
    "papermill": {
     "duration": 0.583012,
     "end_time": "2021-04-05T13:13:35.540131",
     "exception": false,
     "start_time": "2021-04-05T13:13:34.957119",
     "status": "completed"
    },
    "tags": []
   },
   "outputs": [
    {
     "data": {
      "text/plain": [
       "<seaborn.axisgrid.JointGrid at 0x7efd74440810>"
      ]
     },
     "execution_count": 23,
     "metadata": {},
     "output_type": "execute_result"
    },
    {
     "data": {
      "image/png": "[encoded data removed]",
      "text/plain": [
       "<Figure size 432x432 with 3 Axes>"
      ]
     },
     "metadata": {
      "needs_background": "light"
     },
     "output_type": "display_data"
    }
   ],
   "source": [
    "sns.jointplot(x=\"sepal_width\" , y=\"sepal_length\", data  = df , color=\"green\")"
   ]
  },
  {
   "cell_type": "markdown",
   "id": "apart-final",
   "metadata": {
    "papermill": {
     "duration": 0.064428,
     "end_time": "2021-04-05T13:13:35.668006",
     "exception": false,
     "start_time": "2021-04-05T13:13:35.603578",
     "status": "completed"
    },
    "tags": []
   },
   "source": [
    "**Aynı iki veriyi scatterplot ile tekrardan görselleştirelim fakat bu sefer \"variety\" parametresi ile hedef değişkenine göre kırdıralım.** \n",
    "\n",
    "**3 farklı renk arasında sepal değişkenleriyle bir kümeleme yapılabilir mi? Ne kadar ayırt edilebilir bunun üzerine düşünelim.**"
   ]
  },
  {
   "cell_type": "code",
   "execution_count": 24,
   "id": "downtown-sandwich",
   "metadata": {
    "execution": {
     "iopub.execute_input": "2021-04-05T13:13:35.798144Z",
     "iopub.status.busy": "2021-04-05T13:13:35.797238Z",
     "iopub.status.idle": "2021-04-05T13:13:36.069591Z",
     "shell.execute_reply": "2021-04-05T13:13:36.070228Z"
    },
    "papermill": {
     "duration": 0.339751,
     "end_time": "2021-04-05T13:13:36.070427",
     "exception": false,
     "start_time": "2021-04-05T13:13:35.730676",
     "status": "completed"
    },
    "tags": []
   },
   "outputs": [
    {
     "data": {
      "text/plain": [
       "<AxesSubplot:xlabel='sepal_width', ylabel='sepal_length'>"
      ]
     },
     "execution_count": 24,
     "metadata": {},
     "output_type": "execute_result"
    },
    {
     "data": {
      "image/png": "[encoded data removed]",
      "text/plain": [
       "<Figure size 432x288 with 1 Axes>"
      ]
     },
     "metadata": {
      "needs_background": "light"
     },
     "output_type": "display_data"
    }
   ],
   "source": [
    "sns.scatterplot(x=\"sepal_width\" , y=\"sepal_length\",hue=\"species\" , data  = df )"
   ]
  },
  {
   "cell_type": "markdown",
   "id": "efficient-privacy",
   "metadata": {
    "papermill": {
     "duration": 0.066464,
     "end_time": "2021-04-05T13:13:36.202009",
     "exception": false,
     "start_time": "2021-04-05T13:13:36.135545",
     "status": "completed"
    },
    "tags": []
   },
   "source": [
    "**value_counts() fonksiyonu ile veri çerçevemizin ne kadar dengeli dağıldığını sorgulayalım.**"
   ]
  },
  {
   "cell_type": "code",
   "execution_count": 25,
   "id": "behind-america",
   "metadata": {
    "execution": {
     "iopub.execute_input": "2021-04-05T13:13:36.339462Z",
     "iopub.status.busy": "2021-04-05T13:13:36.338646Z",
     "iopub.status.idle": "2021-04-05T13:13:36.346920Z",
     "shell.execute_reply": "2021-04-05T13:13:36.347506Z"
    },
    "papermill": {
     "duration": 0.077408,
     "end_time": "2021-04-05T13:13:36.347691",
     "exception": false,
     "start_time": "2021-04-05T13:13:36.270283",
     "status": "completed"
    },
    "tags": []
   },
   "outputs": [
    {
     "data": {
      "text/plain": [
       "Iris-versicolor    50\n",
       "Iris-setosa        50\n",
       "Iris-virginica     50\n",
       "Name: species, dtype: int64"
      ]
     },
     "execution_count": 25,
     "metadata": {},
     "output_type": "execute_result"
    }
   ],
   "source": [
    "df[\"species\"].value_counts()"
   ]
  },
  {
   "cell_type": "markdown",
   "id": "scientific-cancellation",
   "metadata": {
    "papermill": {
     "duration": 0.067038,
     "end_time": "2021-04-05T13:13:36.480165",
     "exception": false,
     "start_time": "2021-04-05T13:13:36.413127",
     "status": "completed"
    },
    "tags": []
   },
   "source": [
    "**Hangi çiçek türünden kaçar adet gözlem barındırıyor veri çerçevemiz?**\n",
    "\n",
    "**50 x 3 olduğunu ve dengeli olduğunu value_counts ile zaten görmüştük, ancak bunu görsel olarak ifade etmek için sns.countplot() fonksiyonuna variety parametresini verelim.**"
   ]
  },
  {
   "cell_type": "code",
   "execution_count": 26,
   "id": "expected-pottery",
   "metadata": {
    "execution": {
     "iopub.execute_input": "2021-04-05T13:13:36.639171Z",
     "iopub.status.busy": "2021-04-05T13:13:36.638419Z",
     "iopub.status.idle": "2021-04-05T13:13:36.736081Z",
     "shell.execute_reply": "2021-04-05T13:13:36.736639Z"
    },
    "papermill": {
     "duration": 0.190734,
     "end_time": "2021-04-05T13:13:36.736823",
     "exception": false,
     "start_time": "2021-04-05T13:13:36.546089",
     "status": "completed"
    },
    "tags": []
   },
   "outputs": [
    {
     "data": {
      "text/plain": [
       "<AxesSubplot:xlabel='species', ylabel='count'>"
      ]
     },
     "execution_count": 26,
     "metadata": {},
     "output_type": "execute_result"
    },
    {
     "data": {
      "image/png": "[encoded data removed]",
      "text/plain": [
       "<Figure size 432x288 with 1 Axes>"
      ]
     },
     "metadata": {
      "needs_background": "light"
     },
     "output_type": "display_data"
    }
   ],
   "source": [
    "sns.countplot(x=\"species\", data=df)"
   ]
  },
  {
   "cell_type": "markdown",
   "id": "introductory-necessity",
   "metadata": {
    "papermill": {
     "duration": 0.06629,
     "end_time": "2021-04-05T13:13:36.870139",
     "exception": false,
     "start_time": "2021-04-05T13:13:36.803849",
     "status": "completed"
    },
    "tags": []
   },
   "source": [
    "**Keman grafiği çizdirerek sepal.width değişkeninin dağılımını inceleyin.**\n",
    "\n",
    "**Söz konusu dağılım bizim için ne ifade ediyor, normal bir dağılım olduğunu söyleyebilir miyiz?**"
   ]
  },
  {
   "cell_type": "code",
   "execution_count": 27,
   "id": "balanced-kruger",
   "metadata": {
    "execution": {
     "iopub.execute_input": "2021-04-05T13:13:37.036775Z",
     "iopub.status.busy": "2021-04-05T13:13:37.032219Z",
     "iopub.status.idle": "2021-04-05T13:13:37.136859Z",
     "shell.execute_reply": "2021-04-05T13:13:37.137319Z"
    },
    "papermill": {
     "duration": 0.200893,
     "end_time": "2021-04-05T13:13:37.137534",
     "exception": false,
     "start_time": "2021-04-05T13:13:36.936641",
     "status": "completed"
    },
    "tags": []
   },
   "outputs": [
    {
     "data": {
      "text/plain": [
       "<AxesSubplot:ylabel='sepal_width'>"
      ]
     },
     "execution_count": 27,
     "metadata": {},
     "output_type": "execute_result"
    },
    {
     "data": {
      "image/png": "[encoded data removed]",
      "text/plain": [
       "<Figure size 432x288 with 1 Axes>"
      ]
     },
     "metadata": {
      "needs_background": "light"
     },
     "output_type": "display_data"
    }
   ],
   "source": [
    "sns.violinplot(y=\"sepal_width\", data  = df , color=\"green\")"
   ]
  },
  {
   "cell_type": "markdown",
   "id": "blind-conditions",
   "metadata": {
    "papermill": {
     "duration": 0.069215,
     "end_time": "2021-04-05T13:13:37.275020",
     "exception": false,
     "start_time": "2021-04-05T13:13:37.205805",
     "status": "completed"
    },
    "tags": []
   },
   "source": [
    "**Daha iyi anlayabilmek için sepal.width üzerine bir distplot çizdirelim.**"
   ]
  },
  {
   "cell_type": "code",
   "execution_count": 28,
   "id": "qualified-emerald",
   "metadata": {
    "execution": {
     "iopub.execute_input": "2021-04-05T13:13:37.414119Z",
     "iopub.status.busy": "2021-04-05T13:13:37.413100Z",
     "iopub.status.idle": "2021-04-05T13:13:37.715043Z",
     "shell.execute_reply": "2021-04-05T13:13:37.715644Z"
    },
    "papermill": {
     "duration": 0.372789,
     "end_time": "2021-04-05T13:13:37.715832",
     "exception": false,
     "start_time": "2021-04-05T13:13:37.343043",
     "status": "completed"
    },
    "tags": []
   },
   "outputs": [
    {
     "data": {
      "text/plain": [
       "<seaborn.axisgrid.FacetGrid at 0x7efd7412e710>"
      ]
     },
     "execution_count": 28,
     "metadata": {},
     "output_type": "execute_result"
    },
    {
     "data": {
      "image/png": "[encoded data removed]",
      "text/plain": [
       "<Figure size 360x360 with 1 Axes>"
      ]
     },
     "metadata": {
      "needs_background": "light"
     },
     "output_type": "display_data"
    }
   ],
   "source": [
    "sns.displot(df[\"sepal_width\"], bins=16)"
   ]
  },
  {
   "cell_type": "markdown",
   "id": "broadband-label",
   "metadata": {
    "papermill": {
     "duration": 0.071283,
     "end_time": "2021-04-05T13:13:37.857633",
     "exception": false,
     "start_time": "2021-04-05T13:13:37.786350",
     "status": "completed"
    },
    "tags": []
   },
   "source": [
    "**Üç çiçek türü için üç farklı keman grafiğini sepal.length değişkeninin dağılımı üzerine tek bir satır ile görselleştirelim.**"
   ]
  },
  {
   "cell_type": "code",
   "execution_count": 29,
   "id": "nearby-republic",
   "metadata": {
    "execution": {
     "iopub.execute_input": "2021-04-05T13:13:38.027894Z",
     "iopub.status.busy": "2021-04-05T13:13:38.002846Z",
     "iopub.status.idle": "2021-04-05T13:13:38.194549Z",
     "shell.execute_reply": "2021-04-05T13:13:38.193967Z"
    },
    "papermill": {
     "duration": 0.268906,
     "end_time": "2021-04-05T13:13:38.194704",
     "exception": false,
     "start_time": "2021-04-05T13:13:37.925798",
     "status": "completed"
    },
    "tags": []
   },
   "outputs": [
    {
     "data": {
      "text/plain": [
       "<AxesSubplot:xlabel='species', ylabel='sepal_length'>"
      ]
     },
     "execution_count": 29,
     "metadata": {},
     "output_type": "execute_result"
    },
    {
     "data": {
      "image/png": "[encoded data removed]",
      "text/plain": [
       "<Figure size 432x288 with 1 Axes>"
      ]
     },
     "metadata": {
      "needs_background": "light"
     },
     "output_type": "display_data"
    }
   ],
   "source": [
    "sns.violinplot(x=\"species\" , y=\"sepal_length\", data  = df )"
   ]
  },
  {
   "cell_type": "markdown",
   "id": "finite-prevention",
   "metadata": {
    "papermill": {
     "duration": 0.069677,
     "end_time": "2021-04-05T13:13:38.335019",
     "exception": false,
     "start_time": "2021-04-05T13:13:38.265342",
     "status": "completed"
    },
    "tags": []
   },
   "source": [
    "**sepal.length ve sepal.width değişkenlerini sns.jointplot ile görselleştirelim, dağılımı ve dağılımın frekansı yüksek olduğu bölgelerini inceleyelim.**"
   ]
  },
  {
   "cell_type": "code",
   "execution_count": 30,
   "id": "antique-purchase",
   "metadata": {
    "execution": {
     "iopub.execute_input": "2021-04-05T13:13:38.610665Z",
     "iopub.status.busy": "2021-04-05T13:13:38.481067Z",
     "iopub.status.idle": "2021-04-05T13:13:39.138057Z",
     "shell.execute_reply": "2021-04-05T13:13:39.137377Z"
    },
    "papermill": {
     "duration": 0.733363,
     "end_time": "2021-04-05T13:13:39.138205",
     "exception": false,
     "start_time": "2021-04-05T13:13:38.404842",
     "status": "completed"
    },
    "tags": []
   },
   "outputs": [
    {
     "data": {
      "text/plain": [
       "<seaborn.axisgrid.JointGrid at 0x7efd73fd64d0>"
      ]
     },
     "execution_count": 30,
     "metadata": {},
     "output_type": "execute_result"
    },
    {
     "data": {
      "image/png": "[encoded data removed]",
      "text/plain": [
       "<Figure size 432x432 with 3 Axes>"
      ]
     },
     "metadata": {
      "needs_background": "light"
     },
     "output_type": "display_data"
    }
   ],
   "source": [
    "sns.jointplot(x=\"sepal_width\" , y=\"sepal_length\", data  = df , color=\"green\")\n"
   ]
  },
  {
   "cell_type": "markdown",
   "id": "revised-facing",
   "metadata": {
    "papermill": {
     "duration": 0.071683,
     "end_time": "2021-04-05T13:13:39.283268",
     "exception": false,
     "start_time": "2021-04-05T13:13:39.211585",
     "status": "completed"
    },
    "tags": []
   },
   "source": [
    "**Bir önceki hücrede yapmış olduğumuz görselleştirmeye kind = \"kde\" parametresini ekleyelim. Böylelikle dağılımın noktalı gösterimden çıkıp yoğunluk odaklı bir görselleştirmeye dönüştüğünü görmüş olacağız.**"
   ]
  },
  {
   "cell_type": "code",
   "execution_count": 31,
   "id": "electronic-moscow",
   "metadata": {
    "execution": {
     "iopub.execute_input": "2021-04-05T13:13:39.466289Z",
     "iopub.status.busy": "2021-04-05T13:13:39.457145Z",
     "iopub.status.idle": "2021-04-05T13:13:40.107745Z",
     "shell.execute_reply": "2021-04-05T13:13:40.108324Z"
    },
    "papermill": {
     "duration": 0.752548,
     "end_time": "2021-04-05T13:13:40.108573",
     "exception": false,
     "start_time": "2021-04-05T13:13:39.356025",
     "status": "completed"
    },
    "tags": []
   },
   "outputs": [
    {
     "data": {
      "text/plain": [
       "<seaborn.axisgrid.JointGrid at 0x7efd78852a90>"
      ]
     },
     "execution_count": 31,
     "metadata": {},
     "output_type": "execute_result"
    },
    {
     "data": {
      "image/png": "[encoded data removed]",
      "text/plain": [
       "<Figure size 432x432 with 3 Axes>"
      ]
     },
     "metadata": {
      "needs_background": "light"
     },
     "output_type": "display_data"
    }
   ],
   "source": [
    "sns.jointplot(x=\"sepal_width\" , y=\"sepal_length\", kind = \"kde\" , data  = df , color=\"green\")"
   ]
  },
  {
   "cell_type": "markdown",
   "id": "timely-sandwich",
   "metadata": {
    "papermill": {
     "duration": 0.075718,
     "end_time": "2021-04-05T13:13:40.289007",
     "exception": false,
     "start_time": "2021-04-05T13:13:40.213289",
     "status": "completed"
    },
    "tags": []
   },
   "source": [
    "**scatterplot ile petal.length ve petal.width değişkenlerinin dağılımlarını çizdirelim.**"
   ]
  },
  {
   "cell_type": "code",
   "execution_count": 32,
   "id": "instant-census",
   "metadata": {
    "execution": {
     "iopub.execute_input": "2021-04-05T13:13:40.441042Z",
     "iopub.status.busy": "2021-04-05T13:13:40.440046Z",
     "iopub.status.idle": "2021-04-05T13:13:40.605183Z",
     "shell.execute_reply": "2021-04-05T13:13:40.604594Z"
    },
    "papermill": {
     "duration": 0.242042,
     "end_time": "2021-04-05T13:13:40.605365",
     "exception": false,
     "start_time": "2021-04-05T13:13:40.363323",
     "status": "completed"
    },
    "tags": []
   },
   "outputs": [
    {
     "data": {
      "text/plain": [
       "<AxesSubplot:xlabel='petal_length', ylabel='petal_width'>"
      ]
     },
     "execution_count": 32,
     "metadata": {},
     "output_type": "execute_result"
    },
    {
     "data": {
      "image/png": "[encoded data removed]",
      "text/plain": [
       "<Figure size 432x288 with 1 Axes>"
      ]
     },
     "metadata": {
      "needs_background": "light"
     },
     "output_type": "display_data"
    }
   ],
   "source": [
    "sns.scatterplot(x=\"petal_length\" , y=\"petal_width\",  data  = df , color=\"purple\")"
   ]
  },
  {
   "cell_type": "markdown",
   "id": "liberal-trademark",
   "metadata": {
    "papermill": {
     "duration": 0.075437,
     "end_time": "2021-04-05T13:13:40.756369",
     "exception": false,
     "start_time": "2021-04-05T13:13:40.680932",
     "status": "completed"
    },
    "tags": []
   },
   "source": [
    "**Aynı görselleştirmeye hue = \"variety\" parametresini ekleyerek 3. bir boyut verelim.**"
   ]
  },
  {
   "cell_type": "code",
   "execution_count": 33,
   "id": "moving-judge",
   "metadata": {
    "execution": {
     "iopub.execute_input": "2021-04-05T13:13:40.946492Z",
     "iopub.status.busy": "2021-04-05T13:13:40.941231Z",
     "iopub.status.idle": "2021-04-05T13:13:41.175243Z",
     "shell.execute_reply": "2021-04-05T13:13:41.174625Z"
    },
    "papermill": {
     "duration": 0.343444,
     "end_time": "2021-04-05T13:13:41.175389",
     "exception": false,
     "start_time": "2021-04-05T13:13:40.831945",
     "status": "completed"
    },
    "tags": []
   },
   "outputs": [
    {
     "data": {
      "text/plain": [
       "<AxesSubplot:xlabel='petal_length', ylabel='petal_width'>"
      ]
     },
     "execution_count": 33,
     "metadata": {},
     "output_type": "execute_result"
    },
    {
     "data": {
      "image/png": "[encoded data removed]",
      "text/plain": [
       "<Figure size 432x288 with 1 Axes>"
      ]
     },
     "metadata": {
      "needs_background": "light"
     },
     "output_type": "display_data"
    }
   ],
   "source": [
    "sns.scatterplot(x=\"petal_length\" , y=\"petal_width\",  data  = df , hue=\"species\")"
   ]
  },
  {
   "cell_type": "markdown",
   "id": "comprehensive-language",
   "metadata": {
    "papermill": {
     "duration": 0.076515,
     "end_time": "2021-04-05T13:13:41.328644",
     "exception": false,
     "start_time": "2021-04-05T13:13:41.252129",
     "status": "completed"
    },
    "tags": []
   },
   "source": [
    "**sns.lmplot() görselleştirmesini petal.length ve petal.width değişkenleriyle implemente edelim.**\n",
    "\n",
    "**Petal length ile petal width arasında ne tür bir ilişki var ve bu ilişki güçlü müdür? sorusunu yanıtlayalım.**"
   ]
  },
  {
   "cell_type": "code",
   "execution_count": 34,
   "id": "incorporated-hometown",
   "metadata": {
    "execution": {
     "iopub.execute_input": "2021-04-05T13:13:41.524363Z",
     "iopub.status.busy": "2021-04-05T13:13:41.506166Z",
     "iopub.status.idle": "2021-04-05T13:13:41.878935Z",
     "shell.execute_reply": "2021-04-05T13:13:41.878018Z"
    },
    "papermill": {
     "duration": 0.472275,
     "end_time": "2021-04-05T13:13:41.879100",
     "exception": false,
     "start_time": "2021-04-05T13:13:41.406825",
     "status": "completed"
    },
    "tags": []
   },
   "outputs": [
    {
     "data": {
      "text/plain": [
       "<seaborn.axisgrid.FacetGrid at 0x7efd722c24d0>"
      ]
     },
     "execution_count": 34,
     "metadata": {},
     "output_type": "execute_result"
    },
    {
     "data": {
      "image/png": "[encoded data removed]",
      "text/plain": [
       "<Figure size 360x360 with 1 Axes>"
      ]
     },
     "metadata": {
      "needs_background": "light"
     },
     "output_type": "display_data"
    }
   ],
   "source": [
    "sns.lmplot(x=\"petal_length\" , y=\"petal_width\", data=df)"
   ]
  },
  {
   "cell_type": "markdown",
   "id": "virtual-rainbow",
   "metadata": {
    "papermill": {
     "duration": 0.082023,
     "end_time": "2021-04-05T13:13:42.041484",
     "exception": false,
     "start_time": "2021-04-05T13:13:41.959461",
     "status": "completed"
    },
    "tags": []
   },
   "source": [
    "**Bu sorunun yanıtını pekiştirmek için iki değişken arasında korelasyon katsayısını yazdıralım.**"
   ]
  },
  {
   "cell_type": "code",
   "execution_count": 35,
   "id": "twenty-nirvana",
   "metadata": {
    "execution": {
     "iopub.execute_input": "2021-04-05T13:13:42.215992Z",
     "iopub.status.busy": "2021-04-05T13:13:42.215245Z",
     "iopub.status.idle": "2021-04-05T13:13:42.219866Z",
     "shell.execute_reply": "2021-04-05T13:13:42.219315Z"
    },
    "papermill": {
     "duration": 0.095794,
     "end_time": "2021-04-05T13:13:42.220018",
     "exception": false,
     "start_time": "2021-04-05T13:13:42.124224",
     "status": "completed"
    },
    "tags": []
   },
   "outputs": [
    {
     "data": {
      "text/html": [
       "<div>\n",
       "<style scoped>\n",
       "    .dataframe tbody tr th:only-of-type {\n",
       "        vertical-align: middle;\n",
       "    }\n",
       "\n",
       "    .dataframe tbody tr th {\n",
       "        vertical-align: top;\n",
       "    }\n",
       "\n",
       "    .dataframe thead th {\n",
       "        text-align: right;\n",
       "    }\n",
       "</style>\n",
       "<table border=\"1\" class=\"dataframe\">\n",
       "  <thead>\n",
       "    <tr style=\"text-align: right;\">\n",
       "      <th></th>\n",
       "      <th>petal_length</th>\n",
       "      <th>petal_width</th>\n",
       "    </tr>\n",
       "  </thead>\n",
       "  <tbody>\n",
       "    <tr>\n",
       "      <th>petal_length</th>\n",
       "      <td>1.000000</td>\n",
       "      <td>0.962757</td>\n",
       "    </tr>\n",
       "    <tr>\n",
       "      <th>petal_width</th>\n",
       "      <td>0.962757</td>\n",
       "      <td>1.000000</td>\n",
       "    </tr>\n",
       "  </tbody>\n",
       "</table>\n",
       "</div>"
      ],
      "text/plain": [
       "              petal_length  petal_width\n",
       "petal_length      1.000000     0.962757\n",
       "petal_width       0.962757     1.000000"
      ]
     },
     "execution_count": 35,
     "metadata": {},
     "output_type": "execute_result"
    }
   ],
   "source": [
    "df[[\"petal_length\", \"petal_width\"]].corr()"
   ]
  },
  {
   "cell_type": "markdown",
   "id": "radio-nursery",
   "metadata": {
    "papermill": {
     "duration": 0.079764,
     "end_time": "2021-04-05T13:13:42.379698",
     "exception": false,
     "start_time": "2021-04-05T13:13:42.299934",
     "status": "completed"
    },
    "tags": []
   },
   "source": [
    "**Petal Length ile Sepal Length değerlerini toplayarak yeni bir total length özniteliği oluşturalım.**"
   ]
  },
  {
   "cell_type": "code",
   "execution_count": 36,
   "id": "peripheral-marking",
   "metadata": {
    "execution": {
     "iopub.execute_input": "2021-04-05T13:13:42.546822Z",
     "iopub.status.busy": "2021-04-05T13:13:42.546042Z",
     "iopub.status.idle": "2021-04-05T13:13:42.550377Z",
     "shell.execute_reply": "2021-04-05T13:13:42.549809Z"
    },
    "papermill": {
     "duration": 0.091711,
     "end_time": "2021-04-05T13:13:42.550597",
     "exception": false,
     "start_time": "2021-04-05T13:13:42.458886",
     "status": "completed"
    },
    "tags": []
   },
   "outputs": [],
   "source": [
    "df[\"total_length\"] = df[\"petal_length\"] + df[\"sepal_length\"]"
   ]
  },
  {
   "cell_type": "markdown",
   "id": "complex-reconstruction",
   "metadata": {
    "papermill": {
     "duration": 0.081821,
     "end_time": "2021-04-05T13:13:42.712821",
     "exception": false,
     "start_time": "2021-04-05T13:13:42.631000",
     "status": "completed"
    },
    "tags": []
   },
   "source": [
    "**total.length'in ortalama değerini yazdıralım.**"
   ]
  },
  {
   "cell_type": "code",
   "execution_count": 37,
   "id": "excited-snapshot",
   "metadata": {
    "execution": {
     "iopub.execute_input": "2021-04-05T13:13:42.884670Z",
     "iopub.status.busy": "2021-04-05T13:13:42.883726Z",
     "iopub.status.idle": "2021-04-05T13:13:42.888427Z",
     "shell.execute_reply": "2021-04-05T13:13:42.887811Z"
    },
    "papermill": {
     "duration": 0.094578,
     "end_time": "2021-04-05T13:13:42.888727",
     "exception": false,
     "start_time": "2021-04-05T13:13:42.794149",
     "status": "completed"
    },
    "tags": []
   },
   "outputs": [
    {
     "data": {
      "text/plain": [
       "9.602000000000004"
      ]
     },
     "execution_count": 37,
     "metadata": {},
     "output_type": "execute_result"
    }
   ],
   "source": [
    "df[\"total_length\"].mean()"
   ]
  },
  {
   "cell_type": "markdown",
   "id": "composite-hotel",
   "metadata": {
    "papermill": {
     "duration": 0.082322,
     "end_time": "2021-04-05T13:13:43.053335",
     "exception": false,
     "start_time": "2021-04-05T13:13:42.971013",
     "status": "completed"
    },
    "tags": []
   },
   "source": [
    "**total.length'in standart sapma değerini yazdıralım.**"
   ]
  },
  {
   "cell_type": "code",
   "execution_count": 38,
   "id": "marked-substance",
   "metadata": {
    "execution": {
     "iopub.execute_input": "2021-04-05T13:13:43.220922Z",
     "iopub.status.busy": "2021-04-05T13:13:43.219824Z",
     "iopub.status.idle": "2021-04-05T13:13:43.224303Z",
     "shell.execute_reply": "2021-04-05T13:13:43.223789Z"
    },
    "papermill": {
     "duration": 0.090525,
     "end_time": "2021-04-05T13:13:43.224468",
     "exception": false,
     "start_time": "2021-04-05T13:13:43.133943",
     "status": "completed"
    },
    "tags": []
   },
   "outputs": [
    {
     "data": {
      "text/plain": [
       "2.5191739884121978"
      ]
     },
     "execution_count": 38,
     "metadata": {},
     "output_type": "execute_result"
    }
   ],
   "source": [
    "df[\"total_length\"].std()"
   ]
  },
  {
   "cell_type": "markdown",
   "id": "mineral-universe",
   "metadata": {
    "papermill": {
     "duration": 0.080099,
     "end_time": "2021-04-05T13:13:43.387000",
     "exception": false,
     "start_time": "2021-04-05T13:13:43.306901",
     "status": "completed"
    },
    "tags": []
   },
   "source": [
    "**sepal.length'in maksimum değerini yazdıralım.**"
   ]
  },
  {
   "cell_type": "code",
   "execution_count": 39,
   "id": "downtown-robertson",
   "metadata": {
    "execution": {
     "iopub.execute_input": "2021-04-05T13:13:43.555616Z",
     "iopub.status.busy": "2021-04-05T13:13:43.554913Z",
     "iopub.status.idle": "2021-04-05T13:13:43.559488Z",
     "shell.execute_reply": "2021-04-05T13:13:43.558823Z"
    },
    "papermill": {
     "duration": 0.092038,
     "end_time": "2021-04-05T13:13:43.559633",
     "exception": false,
     "start_time": "2021-04-05T13:13:43.467595",
     "status": "completed"
    },
    "tags": []
   },
   "outputs": [
    {
     "data": {
      "text/plain": [
       "7.9"
      ]
     },
     "execution_count": 39,
     "metadata": {},
     "output_type": "execute_result"
    }
   ],
   "source": [
    "df[\"sepal_length\"].max()"
   ]
  },
  {
   "cell_type": "markdown",
   "id": "obvious-spoke",
   "metadata": {
    "papermill": {
     "duration": 0.080706,
     "end_time": "2021-04-05T13:13:43.721763",
     "exception": false,
     "start_time": "2021-04-05T13:13:43.641057",
     "status": "completed"
    },
    "tags": []
   },
   "source": [
    "**sepal.length'i 5.5'den büyük ve türü setosa olan gözlemleri yazdıralım.**"
   ]
  },
  {
   "cell_type": "code",
   "execution_count": 40,
   "id": "electric-pennsylvania",
   "metadata": {
    "execution": {
     "iopub.execute_input": "2021-04-05T13:13:43.901775Z",
     "iopub.status.busy": "2021-04-05T13:13:43.900779Z",
     "iopub.status.idle": "2021-04-05T13:13:43.905948Z",
     "shell.execute_reply": "2021-04-05T13:13:43.905214Z"
    },
    "papermill": {
     "duration": 0.10291,
     "end_time": "2021-04-05T13:13:43.906125",
     "exception": false,
     "start_time": "2021-04-05T13:13:43.803215",
     "status": "completed"
    },
    "tags": []
   },
   "outputs": [
    {
     "data": {
      "text/html": [
       "<div>\n",
       "<style scoped>\n",
       "    .dataframe tbody tr th:only-of-type {\n",
       "        vertical-align: middle;\n",
       "    }\n",
       "\n",
       "    .dataframe tbody tr th {\n",
       "        vertical-align: top;\n",
       "    }\n",
       "\n",
       "    .dataframe thead th {\n",
       "        text-align: right;\n",
       "    }\n",
       "</style>\n",
       "<table border=\"1\" class=\"dataframe\">\n",
       "  <thead>\n",
       "    <tr style=\"text-align: right;\">\n",
       "      <th></th>\n",
       "      <th>sepal_length</th>\n",
       "      <th>sepal_width</th>\n",
       "      <th>petal_length</th>\n",
       "      <th>petal_width</th>\n",
       "      <th>species</th>\n",
       "      <th>total_length</th>\n",
       "    </tr>\n",
       "  </thead>\n",
       "  <tbody>\n",
       "    <tr>\n",
       "      <th>14</th>\n",
       "      <td>5.8</td>\n",
       "      <td>4.0</td>\n",
       "      <td>1.2</td>\n",
       "      <td>0.2</td>\n",
       "      <td>Iris-setosa</td>\n",
       "      <td>7.0</td>\n",
       "    </tr>\n",
       "    <tr>\n",
       "      <th>15</th>\n",
       "      <td>5.7</td>\n",
       "      <td>4.4</td>\n",
       "      <td>1.5</td>\n",
       "      <td>0.4</td>\n",
       "      <td>Iris-setosa</td>\n",
       "      <td>7.2</td>\n",
       "    </tr>\n",
       "    <tr>\n",
       "      <th>18</th>\n",
       "      <td>5.7</td>\n",
       "      <td>3.8</td>\n",
       "      <td>1.7</td>\n",
       "      <td>0.3</td>\n",
       "      <td>Iris-setosa</td>\n",
       "      <td>7.4</td>\n",
       "    </tr>\n",
       "  </tbody>\n",
       "</table>\n",
       "</div>"
      ],
      "text/plain": [
       "    sepal_length  sepal_width  petal_length  petal_width      species  \\\n",
       "14           5.8          4.0           1.2          0.2  Iris-setosa   \n",
       "15           5.7          4.4           1.5          0.4  Iris-setosa   \n",
       "18           5.7          3.8           1.7          0.3  Iris-setosa   \n",
       "\n",
       "    total_length  \n",
       "14           7.0  \n",
       "15           7.2  \n",
       "18           7.4  "
      ]
     },
     "execution_count": 40,
     "metadata": {},
     "output_type": "execute_result"
    }
   ],
   "source": [
    "df[(df[\"sepal_length\"] > 5.5) & (df[\"species\"]== \"Iris-setosa\")]"
   ]
  },
  {
   "cell_type": "markdown",
   "id": "grateful-consequence",
   "metadata": {
    "papermill": {
     "duration": 0.081841,
     "end_time": "2021-04-05T13:13:44.069402",
     "exception": false,
     "start_time": "2021-04-05T13:13:43.987561",
     "status": "completed"
    },
    "tags": []
   },
   "source": [
    "**petal.length'i 5'den küçük ve türü virginica olan gözlemlerin sadece sepal.length ve sepal.width değişkenlerini ve değerlerini yazdıralım.**"
   ]
  },
  {
   "cell_type": "code",
   "execution_count": 41,
   "id": "white-pakistan",
   "metadata": {
    "execution": {
     "iopub.execute_input": "2021-04-05T13:13:44.239066Z",
     "iopub.status.busy": "2021-04-05T13:13:44.238343Z",
     "iopub.status.idle": "2021-04-05T13:13:44.248699Z",
     "shell.execute_reply": "2021-04-05T13:13:44.249194Z"
    },
    "papermill": {
     "duration": 0.098693,
     "end_time": "2021-04-05T13:13:44.249395",
     "exception": false,
     "start_time": "2021-04-05T13:13:44.150702",
     "status": "completed"
    },
    "tags": []
   },
   "outputs": [
    {
     "data": {
      "text/html": [
       "<div>\n",
       "<style scoped>\n",
       "    .dataframe tbody tr th:only-of-type {\n",
       "        vertical-align: middle;\n",
       "    }\n",
       "\n",
       "    .dataframe tbody tr th {\n",
       "        vertical-align: top;\n",
       "    }\n",
       "\n",
       "    .dataframe thead th {\n",
       "        text-align: right;\n",
       "    }\n",
       "</style>\n",
       "<table border=\"1\" class=\"dataframe\">\n",
       "  <thead>\n",
       "    <tr style=\"text-align: right;\">\n",
       "      <th></th>\n",
       "      <th>sepal_length</th>\n",
       "      <th>sepal_width</th>\n",
       "    </tr>\n",
       "  </thead>\n",
       "  <tbody>\n",
       "    <tr>\n",
       "      <th>106</th>\n",
       "      <td>4.9</td>\n",
       "      <td>2.5</td>\n",
       "    </tr>\n",
       "  </tbody>\n",
       "</table>\n",
       "</div>"
      ],
      "text/plain": [
       "     sepal_length  sepal_width\n",
       "106           4.9          2.5"
      ]
     },
     "execution_count": 41,
     "metadata": {},
     "output_type": "execute_result"
    }
   ],
   "source": [
    "df[(df[\"sepal_length\"] < 5) & (df[\"species\"]== \"Iris-virginica\")][[\"sepal_length\" , \"sepal_width\"]]"
   ]
  },
  {
   "cell_type": "markdown",
   "id": "lasting-cathedral",
   "metadata": {
    "papermill": {
     "duration": 0.081661,
     "end_time": "2021-04-05T13:13:44.413214",
     "exception": false,
     "start_time": "2021-04-05T13:13:44.331553",
     "status": "completed"
    },
    "tags": []
   },
   "source": [
    "**Hedef değişkenimiz variety'e göre bir gruplama işlemi yapalım değişken değerlerimizin ortalamasını görüntüleyelim.**"
   ]
  },
  {
   "cell_type": "code",
   "execution_count": 42,
   "id": "ignored-costume",
   "metadata": {
    "execution": {
     "iopub.execute_input": "2021-04-05T13:13:44.583979Z",
     "iopub.status.busy": "2021-04-05T13:13:44.582962Z",
     "iopub.status.idle": "2021-04-05T13:13:44.602227Z",
     "shell.execute_reply": "2021-04-05T13:13:44.602726Z"
    },
    "papermill": {
     "duration": 0.106316,
     "end_time": "2021-04-05T13:13:44.602911",
     "exception": false,
     "start_time": "2021-04-05T13:13:44.496595",
     "status": "completed"
    },
    "tags": []
   },
   "outputs": [
    {
     "data": {
      "text/html": [
       "<div>\n",
       "<style scoped>\n",
       "    .dataframe tbody tr th:only-of-type {\n",
       "        vertical-align: middle;\n",
       "    }\n",
       "\n",
       "    .dataframe tbody tr th {\n",
       "        vertical-align: top;\n",
       "    }\n",
       "\n",
       "    .dataframe thead th {\n",
       "        text-align: right;\n",
       "    }\n",
       "</style>\n",
       "<table border=\"1\" class=\"dataframe\">\n",
       "  <thead>\n",
       "    <tr style=\"text-align: right;\">\n",
       "      <th></th>\n",
       "      <th>sepal_length</th>\n",
       "      <th>sepal_width</th>\n",
       "      <th>petal_length</th>\n",
       "      <th>petal_width</th>\n",
       "      <th>total_length</th>\n",
       "    </tr>\n",
       "    <tr>\n",
       "      <th>species</th>\n",
       "      <th></th>\n",
       "      <th></th>\n",
       "      <th></th>\n",
       "      <th></th>\n",
       "      <th></th>\n",
       "    </tr>\n",
       "  </thead>\n",
       "  <tbody>\n",
       "    <tr>\n",
       "      <th>Iris-setosa</th>\n",
       "      <td>5.006</td>\n",
       "      <td>3.418</td>\n",
       "      <td>1.464</td>\n",
       "      <td>0.244</td>\n",
       "      <td>6.470</td>\n",
       "    </tr>\n",
       "    <tr>\n",
       "      <th>Iris-versicolor</th>\n",
       "      <td>5.936</td>\n",
       "      <td>2.770</td>\n",
       "      <td>4.260</td>\n",
       "      <td>1.326</td>\n",
       "      <td>10.196</td>\n",
       "    </tr>\n",
       "    <tr>\n",
       "      <th>Iris-virginica</th>\n",
       "      <td>6.588</td>\n",
       "      <td>2.974</td>\n",
       "      <td>5.552</td>\n",
       "      <td>2.026</td>\n",
       "      <td>12.140</td>\n",
       "    </tr>\n",
       "  </tbody>\n",
       "</table>\n",
       "</div>"
      ],
      "text/plain": [
       "                 sepal_length  sepal_width  petal_length  petal_width  \\\n",
       "species                                                                 \n",
       "Iris-setosa             5.006        3.418         1.464        0.244   \n",
       "Iris-versicolor         5.936        2.770         4.260        1.326   \n",
       "Iris-virginica          6.588        2.974         5.552        2.026   \n",
       "\n",
       "                 total_length  \n",
       "species                        \n",
       "Iris-setosa             6.470  \n",
       "Iris-versicolor        10.196  \n",
       "Iris-virginica         12.140  "
      ]
     },
     "execution_count": 42,
     "metadata": {},
     "output_type": "execute_result"
    }
   ],
   "source": [
    "df.groupby(\"species\").apply(lambda x: np.mean(x))"
   ]
  },
  {
   "cell_type": "markdown",
   "id": "pregnant-portrait",
   "metadata": {
    "papermill": {
     "duration": 0.081752,
     "end_time": "2021-04-05T13:13:44.766638",
     "exception": false,
     "start_time": "2021-04-05T13:13:44.684886",
     "status": "completed"
    },
    "tags": []
   },
   "source": [
    "**Hedef değişkenimiz variety'e göre gruplama işlemi yaparak sadece petal.length değişkenimizin standart sapma değerlerini yazdıralım.**"
   ]
  },
  {
   "cell_type": "code",
   "execution_count": 43,
   "id": "infectious-exhibit",
   "metadata": {
    "execution": {
     "iopub.execute_input": "2021-04-05T13:13:44.936319Z",
     "iopub.status.busy": "2021-04-05T13:13:44.935291Z",
     "iopub.status.idle": "2021-04-05T13:13:44.944386Z",
     "shell.execute_reply": "2021-04-05T13:13:44.944868Z"
    },
    "papermill": {
     "duration": 0.096039,
     "end_time": "2021-04-05T13:13:44.945054",
     "exception": false,
     "start_time": "2021-04-05T13:13:44.849015",
     "status": "completed"
    },
    "tags": []
   },
   "outputs": [
    {
     "data": {
      "text/plain": [
       "species\n",
       "Iris-setosa        0.171767\n",
       "Iris-versicolor    0.465188\n",
       "Iris-virginica     0.546348\n",
       "Name: petal_length, dtype: float64"
      ]
     },
     "execution_count": 43,
     "metadata": {},
     "output_type": "execute_result"
    }
   ],
   "source": [
    "df.groupby(\"species\")[\"petal_length\"].apply(lambda x: np.std(x))"
   ]
  }
 ],
 "metadata": {
  "kernelspec": {
   "display_name": "Python 3",
   "language": "python",
   "name": "python3"
  },
  "language_info": {
   "codemirror_mode": {
    "name": "ipython",
    "version": 3
   },
   "file_extension": ".py",
   "mimetype": "text/x-python",
   "name": "python",
   "nbconvert_exporter": "python",
   "pygments_lexer": "ipython3",
   "version": "3.7.9"
  },
  "papermill": {
   "default_parameters": {},
   "duration": 25.299637,
   "end_time": "2021-04-05T13:13:45.840813",
   "environment_variables": {},
   "exception": null,
   "input_path": "__notebook__.ipynb",
   "output_path": "__notebook__.ipynb",
   "parameters": {},
   "start_time": "2021-04-05T13:13:20.541176",
   "version": "2.3.2"
  }
 },
 "nbformat": 4,
 "nbformat_minor": 5
}
